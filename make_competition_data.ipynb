{
 "cells": [
  {
   "cell_type": "code",
   "execution_count": 1,
   "metadata": {},
   "outputs": [],
   "source": [
    "import requests\n",
    "from bs4 import BeautifulSoup\n",
    "import re\n",
    "import pandas as pd\n",
    "import time\n",
    "from collections import defaultdict\n",
    "from pathlib import Path\n",
    "import matplotlib.pyplot as plt\n",
    "import zlib"
   ]
  },
  {
   "cell_type": "code",
   "execution_count": 2,
   "metadata": {},
   "outputs": [],
   "source": [
    "def hash_name(name):\n",
    "    return format(zlib.crc32(name.encode()), '08x')  # 8桁の16進数として返す"
   ]
  },
  {
   "cell_type": "code",
   "execution_count": 3,
   "metadata": {},
   "outputs": [],
   "source": [
    "p = Path('input/scraping_data/')\n",
    "shop_files = list(p.glob('shop_info_page*.csv'))\n",
    "review_files = list(p.glob('reviews_page*.csv'))\n",
    "\n",
    "dfs = []\n",
    "for shop_file in shop_files:\n",
    "    df = pd.read_csv(shop_file)\n",
    "    dfs.append(df)\n",
    "shop_info = pd.concat(dfs, ignore_index=True)\n",
    "\n",
    "dfs = []\n",
    "for review_file in review_files:\n",
    "    df = pd.read_csv(review_file)\n",
    "    dfs.append(df)\n",
    "review = pd.concat(dfs, ignore_index=True)"
   ]
  },
  {
   "cell_type": "markdown",
   "metadata": {},
   "source": [
    "shop_info"
   ]
  },
  {
   "cell_type": "code",
   "execution_count": 4,
   "metadata": {},
   "outputs": [
    {
     "name": "stdout",
     "output_type": "stream",
     "text": [
      "dropped 3 duplicates\n"
     ]
    }
   ],
   "source": [
    "# shop_infoの重複を削除\n",
    "before_len = len(shop_info)\n",
    "shop_info = shop_info.drop_duplicates(subset='shop_name')\n",
    "after_len = len(shop_info)\n",
    "print(f'dropped {before_len - after_len} duplicates')"
   ]
  },
  {
   "cell_type": "code",
   "execution_count": 5,
   "metadata": {},
   "outputs": [],
   "source": [
    "# 匿名化\n",
    "shop_info['shop_id'] = shop_info['shop_name'].apply(hash_name)"
   ]
  },
  {
   "cell_type": "code",
   "execution_count": 6,
   "metadata": {},
   "outputs": [
    {
     "data": {
      "text/html": [
       "<div>\n",
       "<style scoped>\n",
       "    .dataframe tbody tr th:only-of-type {\n",
       "        vertical-align: middle;\n",
       "    }\n",
       "\n",
       "    .dataframe tbody tr th {\n",
       "        vertical-align: top;\n",
       "    }\n",
       "\n",
       "    .dataframe thead th {\n",
       "        text-align: right;\n",
       "    }\n",
       "</style>\n",
       "<table border=\"1\" class=\"dataframe\">\n",
       "  <thead>\n",
       "    <tr style=\"text-align: right;\">\n",
       "      <th></th>\n",
       "      <th>shop_id</th>\n",
       "      <th>open_date</th>\n",
       "      <th>lunch_budget</th>\n",
       "      <th>dinner_budget</th>\n",
       "      <th>holiday</th>\n",
       "      <th>nearest_station</th>\n",
       "    </tr>\n",
       "  </thead>\n",
       "  <tbody>\n",
       "    <tr>\n",
       "      <th>0</th>\n",
       "      <td>09385a4b</td>\n",
       "      <td>2001年11月6日</td>\n",
       "      <td>￥1,000～￥1,999</td>\n",
       "      <td>￥1,000～￥1,999</td>\n",
       "      <td>火曜日　第2第4の水曜日 (祝日関係なく休み)</td>\n",
       "      <td>西長堀駅</td>\n",
       "    </tr>\n",
       "    <tr>\n",
       "      <th>1</th>\n",
       "      <td>e76cf39b</td>\n",
       "      <td>2010年6月18日</td>\n",
       "      <td>～￥999</td>\n",
       "      <td>￥1,000～￥1,999</td>\n",
       "      <td>NaN</td>\n",
       "      <td>福島駅</td>\n",
       "    </tr>\n",
       "    <tr>\n",
       "      <th>2</th>\n",
       "      <td>1c4cb3ed</td>\n",
       "      <td>2012年4月12日</td>\n",
       "      <td>～￥999</td>\n",
       "      <td>～￥999</td>\n",
       "      <td>NaN</td>\n",
       "      <td>南方駅</td>\n",
       "    </tr>\n",
       "    <tr>\n",
       "      <th>3</th>\n",
       "      <td>b623d137</td>\n",
       "      <td>2016年4月23日</td>\n",
       "      <td>～￥999</td>\n",
       "      <td>～￥999</td>\n",
       "      <td>NaN</td>\n",
       "      <td>福島駅</td>\n",
       "    </tr>\n",
       "    <tr>\n",
       "      <th>4</th>\n",
       "      <td>87598b23</td>\n",
       "      <td>2018年5月19日</td>\n",
       "      <td>～￥999</td>\n",
       "      <td>NaN</td>\n",
       "      <td>NaN</td>\n",
       "      <td>中津駅（大阪メトロ）</td>\n",
       "    </tr>\n",
       "  </tbody>\n",
       "</table>\n",
       "</div>"
      ],
      "text/plain": [
       "    shop_id   open_date   lunch_budget  dinner_budget  \\\n",
       "0  09385a4b  2001年11月6日  ￥1,000～￥1,999  ￥1,000～￥1,999   \n",
       "1  e76cf39b  2010年6月18日          ～￥999  ￥1,000～￥1,999   \n",
       "2  1c4cb3ed  2012年4月12日          ～￥999          ～￥999   \n",
       "3  b623d137  2016年4月23日          ～￥999          ～￥999   \n",
       "4  87598b23  2018年5月19日          ～￥999            NaN   \n",
       "\n",
       "                   holiday nearest_station  \n",
       "0  火曜日　第2第4の水曜日 (祝日関係なく休み)            西長堀駅  \n",
       "1                      NaN             福島駅  \n",
       "2                      NaN             南方駅  \n",
       "3                      NaN             福島駅  \n",
       "4                      NaN      中津駅（大阪メトロ）  "
      ]
     },
     "execution_count": 6,
     "metadata": {},
     "output_type": "execute_result"
    }
   ],
   "source": [
    "usecols = ['shop_id', 'open_date', 'lunch_budget', 'dinner_budget', 'holiday', 'nearest_station']\n",
    "shop_info = shop_info[usecols].copy()\n",
    "shop_info.to_csv('output/competition_data/shop_info.csv', index=False)\n",
    "shop_info.head()"
   ]
  },
  {
   "cell_type": "markdown",
   "metadata": {},
   "source": [
    "reviews"
   ]
  },
  {
   "cell_type": "code",
   "execution_count": 7,
   "metadata": {},
   "outputs": [
    {
     "name": "stdout",
     "output_type": "stream",
     "text": [
      "dropped 24000 duplicates\n"
     ]
    }
   ],
   "source": [
    "# drop duplicates\n",
    "before_len = len(review)\n",
    "review = review.drop_duplicates()\n",
    "after_len = len(review)\n",
    "print(f'dropped {before_len - after_len} duplicates')"
   ]
  },
  {
   "cell_type": "code",
   "execution_count": 8,
   "metadata": {},
   "outputs": [
    {
     "name": "stdout",
     "output_type": "stream",
     "text": [
      "dropped 17661 rows with null comment\n"
     ]
    }
   ],
   "source": [
    "# commentが空の行を削除\n",
    "before_len = len(review)\n",
    "review = review[review['comment'].notnull()].copy()\n",
    "after_len = len(review)\n",
    "print(f'dropped {before_len - after_len} rows with null comment')"
   ]
  },
  {
   "cell_type": "code",
   "execution_count": 9,
   "metadata": {},
   "outputs": [
    {
     "name": "stdout",
     "output_type": "stream",
     "text": [
      "dropped 25 rows with null review_score\n"
     ]
    }
   ],
   "source": [
    "# review_scoreが空の行を削除\n",
    "before_len = len(review)\n",
    "review = review[review['review_score'].notnull()].copy()\n",
    "after_len = len(review)\n",
    "print(f'dropped {before_len - after_len} rows with null review_score')"
   ]
  },
  {
   "cell_type": "code",
   "execution_count": 10,
   "metadata": {},
   "outputs": [
    {
     "name": "stdout",
     "output_type": "stream",
     "text": [
      "dropped 1735 rows with \"-\" review_score\n"
     ]
    }
   ],
   "source": [
    "# review_scoreの-を削除\n",
    "before_len = len(review)\n",
    "review = review[review['review_score'] != '-'].copy()\n",
    "after_len = len(review)\n",
    "print(f'dropped {before_len - after_len} rows with \"-\" review_score')"
   ]
  },
  {
   "cell_type": "code",
   "execution_count": 11,
   "metadata": {},
   "outputs": [
    {
     "data": {
      "text/plain": [
       "<Axes: >"
      ]
     },
     "execution_count": 11,
     "metadata": {},
     "output_type": "execute_result"
    },
    {
     "data": {
      "image/png": "[encoded data removed]",
      "text/plain": [
       "<Figure size 640x480 with 1 Axes>"
      ]
     },
     "metadata": {},
     "output_type": "display_data"
    }
   ],
   "source": [
    "# 数値型に変換\n",
    "review['review_score'] = review['review_score'].astype(float)\n",
    "review['review_score'].hist(bins=100)"
   ]
  },
  {
   "cell_type": "code",
   "execution_count": 12,
   "metadata": {},
   "outputs": [
    {
     "name": "stdout",
     "output_type": "stream",
     "text": [
      "dropped 4342 rows with invalid visit_date\n"
     ]
    }
   ],
   "source": [
    "# visit_dateが正しい書式のものだけ残す\n",
    "before_len = len(review)\n",
    "pattern = r'^\\d{4}/\\d{2}訪問$'\n",
    "review = review[review['visit_date'].str.match(pattern)].copy()\n",
    "after_len = len(review)\n",
    "print(f'dropped {before_len - after_len} rows with invalid visit_date')"
   ]
  },
  {
   "cell_type": "code",
   "execution_count": 13,
   "metadata": {},
   "outputs": [],
   "source": [
    "# visit_dateから年と月を抽出\n",
    "review['visit_year'] = review['visit_date'].str[0:4].astype(int)\n",
    "review['visit_month'] = review['visit_date'].str[5:7].astype(int)"
   ]
  },
  {
   "cell_type": "code",
   "execution_count": 14,
   "metadata": {},
   "outputs": [
    {
     "data": {
      "text/plain": [
       "<Axes: >"
      ]
     },
     "execution_count": 14,
     "metadata": {},
     "output_type": "execute_result"
    },
    {
     "data": {
      "image/png": "[encoded data removed]",
      "text/plain": [
       "<Figure size 640x480 with 1 Axes>"
      ]
     },
     "metadata": {},
     "output_type": "display_data"
    }
   ],
   "source": [
    "# visit_yearごとの件数を可視化\n",
    "visit_year_count = review['visit_year'].value_counts().sort_index()\n",
    "visit_year_count.plot(kind='bar')"
   ]
  },
  {
   "cell_type": "code",
   "execution_count": 15,
   "metadata": {},
   "outputs": [],
   "source": [
    "# csvを開いたときに列が崩れるのでセミコロン、tabを変換\n",
    "review['title'] = review['title'].str.replace(';', ' ')\n",
    "review['comment'] = review['comment'].str.replace(';', ' ')\n",
    "review['title'] = review['title'].str.replace('\\t', ' ')\n",
    "review['comment'] = review['comment'].str.replace('\\t', ' ')\n",
    "review['reviewer_name'] = review['reviewer_name'].str.replace(';', '')\n",
    "review['reviewer_name'] = review['reviewer_name'].str.replace('\\t', '')"
   ]
  },
  {
   "cell_type": "code",
   "execution_count": 16,
   "metadata": {},
   "outputs": [],
   "source": [
    "# 匿名化\n",
    "review['shop_id'] = review['shop_name'].apply(hash_name)\n",
    "review['reviewer_id'] = review['reviewer_name'].apply(hash_name)"
   ]
  },
  {
   "cell_type": "code",
   "execution_count": 17,
   "metadata": {},
   "outputs": [],
   "source": [
    "# id列を作成({shop_id}_{reviewer_id})\n",
    "review['id'] = review['shop_id'] + '_' + review['reviewer_id']"
   ]
  },
  {
   "cell_type": "code",
   "execution_count": 18,
   "metadata": {},
   "outputs": [],
   "source": [
    "# 並び順をシャッフル\n",
    "review = review.sample(frac=1, random_state=0).reset_index(drop=True)"
   ]
  },
  {
   "cell_type": "code",
   "execution_count": 19,
   "metadata": {},
   "outputs": [],
   "source": [
    "# trainとtestを分割\n",
    "# train(2022以前のデータ)とtest(2023年のデータ)に分割\n",
    "train = review[review['visit_year'] <= 2022].reset_index(drop=True)\n",
    "test = review[review['visit_year'] == 2023].reset_index(drop=True)"
   ]
  },
  {
   "cell_type": "code",
   "execution_count": 20,
   "metadata": {},
   "outputs": [
    {
     "data": {
      "text/html": [
       "<div>\n",
       "<style scoped>\n",
       "    .dataframe tbody tr th:only-of-type {\n",
       "        vertical-align: middle;\n",
       "    }\n",
       "\n",
       "    .dataframe tbody tr th {\n",
       "        vertical-align: top;\n",
       "    }\n",
       "\n",
       "    .dataframe thead th {\n",
       "        text-align: right;\n",
       "    }\n",
       "</style>\n",
       "<table border=\"1\" class=\"dataframe\">\n",
       "  <thead>\n",
       "    <tr style=\"text-align: right;\">\n",
       "      <th></th>\n",
       "      <th>shop_name</th>\n",
       "      <th>title</th>\n",
       "      <th>comment</th>\n",
       "      <th>reviewer_name</th>\n",
       "      <th>visit_date</th>\n",
       "      <th>review_cnt</th>\n",
       "      <th>review_score</th>\n",
       "      <th>visit_year</th>\n",
       "      <th>visit_month</th>\n",
       "      <th>shop_id</th>\n",
       "      <th>reviewer_id</th>\n",
       "      <th>id</th>\n",
       "    </tr>\n",
       "  </thead>\n",
       "  <tbody>\n",
       "    <tr>\n",
       "      <th>0</th>\n",
       "      <td>麦と麺助</td>\n",
       "      <td>きれいだけどしっかりしたイリコスープの絶品ラーメン</td>\n",
       "      <td>特製イリコそば（1200円）リニューアルしてからレギュラーメニューは初めて食べます(^_-)...</td>\n",
       "      <td>なぎぴ813</td>\n",
       "      <td>2021/01訪問</td>\n",
       "      <td>4.0</td>\n",
       "      <td>4.9</td>\n",
       "      <td>2021</td>\n",
       "      <td>1</td>\n",
       "      <td>87598b23</td>\n",
       "      <td>d57b35ba</td>\n",
       "      <td>87598b23_d57b35ba</td>\n",
       "    </tr>\n",
       "    <tr>\n",
       "      <th>1</th>\n",
       "      <td>時屋</td>\n",
       "      <td>いままでで一番のつけ麺</td>\n",
       "      <td>開店とほぼ同時刻に来店。店内満席・既に6〜7人の行列ができていました。しかし、10〜15分ほ...</td>\n",
       "      <td>2525菅田将暉</td>\n",
       "      <td>2022/05訪問</td>\n",
       "      <td>1.0</td>\n",
       "      <td>4.3</td>\n",
       "      <td>2022</td>\n",
       "      <td>5</td>\n",
       "      <td>c204b5f7</td>\n",
       "      <td>66501bed</td>\n",
       "      <td>c204b5f7_66501bed</td>\n",
       "    </tr>\n",
       "    <tr>\n",
       "      <th>2</th>\n",
       "      <td>カドヤ食堂 総本店</td>\n",
       "      <td>煮干し中華そばワンタン味玉トッピング1600円</td>\n",
       "      <td>カドヤ食堂 総本店ここは7年ぶりの訪麺で以前は確かバイクできたような気がする。公式サイトにて...</td>\n",
       "      <td>zuzuzuzu</td>\n",
       "      <td>2022/02訪問</td>\n",
       "      <td>2.0</td>\n",
       "      <td>4.0</td>\n",
       "      <td>2022</td>\n",
       "      <td>2</td>\n",
       "      <td>09385a4b</td>\n",
       "      <td>de6e1229</td>\n",
       "      <td>09385a4b_de6e1229</td>\n",
       "    </tr>\n",
       "    <tr>\n",
       "      <th>3</th>\n",
       "      <td>らーめん 伊藝</td>\n",
       "      <td>NaN</td>\n",
       "      <td>雨の日曜日開店前に到着‼️私も金の器で提供していただきました。（嬉）つけ麺は、中と半チャーハ...</td>\n",
       "      <td>0.52</td>\n",
       "      <td>2023/06訪問</td>\n",
       "      <td>1.0</td>\n",
       "      <td>4.0</td>\n",
       "      <td>2023</td>\n",
       "      <td>6</td>\n",
       "      <td>f7d5bfd5</td>\n",
       "      <td>895adf61</td>\n",
       "      <td>f7d5bfd5_895adf61</td>\n",
       "    </tr>\n",
       "    <tr>\n",
       "      <th>4</th>\n",
       "      <td>自己流ラーメン綿麺</td>\n",
       "      <td>ありふれた豚骨魚介つけ麺だからこそ違いが分かる名店でした</td>\n",
       "      <td>困りました。綿麺ですがレビューが浮かばない。それもこれもルーフランクさんの素晴らしいレビュー...</td>\n",
       "      <td>メイクマイデイ</td>\n",
       "      <td>2015/06訪問</td>\n",
       "      <td>1.0</td>\n",
       "      <td>4.6</td>\n",
       "      <td>2015</td>\n",
       "      <td>6</td>\n",
       "      <td>40f52d87</td>\n",
       "      <td>17ee8036</td>\n",
       "      <td>40f52d87_17ee8036</td>\n",
       "    </tr>\n",
       "    <tr>\n",
       "      <th>...</th>\n",
       "      <td>...</td>\n",
       "      <td>...</td>\n",
       "      <td>...</td>\n",
       "      <td>...</td>\n",
       "      <td>...</td>\n",
       "      <td>...</td>\n",
       "      <td>...</td>\n",
       "      <td>...</td>\n",
       "      <td>...</td>\n",
       "      <td>...</td>\n",
       "      <td>...</td>\n",
       "      <td>...</td>\n",
       "    </tr>\n",
       "    <tr>\n",
       "      <th>70044</th>\n",
       "      <td>大阪中華サワダ飯店</td>\n",
       "      <td>サワダ式中華バル第二弾！梅田の真ん中にオープン‼︎</td>\n",
       "      <td>2021.1.15ミシュラン一つ星の【中華菜エスサワダ】さんの、新店舗が梅田の真ん中にオープ...</td>\n",
       "      <td>ひろっし(会長)</td>\n",
       "      <td>2021/01訪問</td>\n",
       "      <td>1.0</td>\n",
       "      <td>4.0</td>\n",
       "      <td>2021</td>\n",
       "      <td>1</td>\n",
       "      <td>d8afd764</td>\n",
       "      <td>08e34ef0</td>\n",
       "      <td>d8afd764_08e34ef0</td>\n",
       "    </tr>\n",
       "    <tr>\n",
       "      <th>70045</th>\n",
       "      <td>手打ち麺 やす田</td>\n",
       "      <td>NaN</td>\n",
       "      <td>麺のモチモチ感は半端なく良かったです✨スープにもう少しコクが欲しかったです。でも美味しかった...</td>\n",
       "      <td>タッキーfreude</td>\n",
       "      <td>2017/12訪問</td>\n",
       "      <td>1.0</td>\n",
       "      <td>3.4</td>\n",
       "      <td>2017</td>\n",
       "      <td>12</td>\n",
       "      <td>2f2d1424</td>\n",
       "      <td>3c3afbcf</td>\n",
       "      <td>2f2d1424_3c3afbcf</td>\n",
       "    </tr>\n",
       "    <tr>\n",
       "      <th>70046</th>\n",
       "      <td>総大醤</td>\n",
       "      <td>NaN</td>\n",
       "      <td>初めて来店しました。いつ見ても長蛇の列で一度行ってみたいと思っていました。丁度昼を過ぎていて...</td>\n",
       "      <td>reals34</td>\n",
       "      <td>2022/12訪問</td>\n",
       "      <td>1.0</td>\n",
       "      <td>2.5</td>\n",
       "      <td>2022</td>\n",
       "      <td>12</td>\n",
       "      <td>13f09ce1</td>\n",
       "      <td>e868d15f</td>\n",
       "      <td>13f09ce1_e868d15f</td>\n",
       "    </tr>\n",
       "    <tr>\n",
       "      <th>70047</th>\n",
       "      <td>らーめん弥七</td>\n",
       "      <td>NaN</td>\n",
       "      <td>へためし(チャーシュー丼)最高！ラーメンは好み。</td>\n",
       "      <td>shinn0124</td>\n",
       "      <td>2017/10訪問</td>\n",
       "      <td>1.0</td>\n",
       "      <td>3.5</td>\n",
       "      <td>2017</td>\n",
       "      <td>10</td>\n",
       "      <td>3efd8434</td>\n",
       "      <td>3fbd2942</td>\n",
       "      <td>3efd8434_3fbd2942</td>\n",
       "    </tr>\n",
       "    <tr>\n",
       "      <th>70048</th>\n",
       "      <td>麺匠至誠</td>\n",
       "      <td>NaN</td>\n",
       "      <td>経緯はよくわからないけど、どうやら而今系列のお店のようです。看板などに元而今である名残も残っ...</td>\n",
       "      <td>つじっこ</td>\n",
       "      <td>2023/10訪問</td>\n",
       "      <td>1.0</td>\n",
       "      <td>3.5</td>\n",
       "      <td>2023</td>\n",
       "      <td>10</td>\n",
       "      <td>6a5e2734</td>\n",
       "      <td>b1bd145a</td>\n",
       "      <td>6a5e2734_b1bd145a</td>\n",
       "    </tr>\n",
       "  </tbody>\n",
       "</table>\n",
       "<p>70049 rows × 12 columns</p>\n",
       "</div>"
      ],
      "text/plain": [
       "       shop_name                         title  \\\n",
       "0           麦と麺助     きれいだけどしっかりしたイリコスープの絶品ラーメン   \n",
       "1             時屋                   いままでで一番のつけ麺   \n",
       "2      カドヤ食堂 総本店       煮干し中華そばワンタン味玉トッピング1600円   \n",
       "3        らーめん 伊藝                           NaN   \n",
       "4      自己流ラーメン綿麺  ありふれた豚骨魚介つけ麺だからこそ違いが分かる名店でした   \n",
       "...          ...                           ...   \n",
       "70044  大阪中華サワダ飯店     サワダ式中華バル第二弾！梅田の真ん中にオープン‼︎   \n",
       "70045   手打ち麺 やす田                           NaN   \n",
       "70046        総大醤                           NaN   \n",
       "70047     らーめん弥七                           NaN   \n",
       "70048       麺匠至誠                           NaN   \n",
       "\n",
       "                                                 comment reviewer_name  \\\n",
       "0      特製イリコそば（1200円）リニューアルしてからレギュラーメニューは初めて食べます(^_-)...        なぎぴ813   \n",
       "1      開店とほぼ同時刻に来店。店内満席・既に6〜7人の行列ができていました。しかし、10〜15分ほ...      2525菅田将暉   \n",
       "2      カドヤ食堂 総本店ここは7年ぶりの訪麺で以前は確かバイクできたような気がする。公式サイトにて...      zuzuzuzu   \n",
       "3      雨の日曜日開店前に到着‼️私も金の器で提供していただきました。（嬉）つけ麺は、中と半チャーハ...          0.52   \n",
       "4      困りました。綿麺ですがレビューが浮かばない。それもこれもルーフランクさんの素晴らしいレビュー...       メイクマイデイ   \n",
       "...                                                  ...           ...   \n",
       "70044  2021.1.15ミシュラン一つ星の【中華菜エスサワダ】さんの、新店舗が梅田の真ん中にオープ...      ひろっし(会長)   \n",
       "70045  麺のモチモチ感は半端なく良かったです✨スープにもう少しコクが欲しかったです。でも美味しかった...    タッキーfreude   \n",
       "70046  初めて来店しました。いつ見ても長蛇の列で一度行ってみたいと思っていました。丁度昼を過ぎていて...       reals34   \n",
       "70047                           へためし(チャーシュー丼)最高！ラーメンは好み。     shinn0124   \n",
       "70048  経緯はよくわからないけど、どうやら而今系列のお店のようです。看板などに元而今である名残も残っ...          つじっこ   \n",
       "\n",
       "      visit_date  review_cnt  review_score  visit_year  visit_month   shop_id  \\\n",
       "0      2021/01訪問         4.0           4.9        2021            1  87598b23   \n",
       "1      2022/05訪問         1.0           4.3        2022            5  c204b5f7   \n",
       "2      2022/02訪問         2.0           4.0        2022            2  09385a4b   \n",
       "3      2023/06訪問         1.0           4.0        2023            6  f7d5bfd5   \n",
       "4      2015/06訪問         1.0           4.6        2015            6  40f52d87   \n",
       "...          ...         ...           ...         ...          ...       ...   \n",
       "70044  2021/01訪問         1.0           4.0        2021            1  d8afd764   \n",
       "70045  2017/12訪問         1.0           3.4        2017           12  2f2d1424   \n",
       "70046  2022/12訪問         1.0           2.5        2022           12  13f09ce1   \n",
       "70047  2017/10訪問         1.0           3.5        2017           10  3efd8434   \n",
       "70048  2023/10訪問         1.0           3.5        2023           10  6a5e2734   \n",
       "\n",
       "      reviewer_id                 id  \n",
       "0        d57b35ba  87598b23_d57b35ba  \n",
       "1        66501bed  c204b5f7_66501bed  \n",
       "2        de6e1229  09385a4b_de6e1229  \n",
       "3        895adf61  f7d5bfd5_895adf61  \n",
       "4        17ee8036  40f52d87_17ee8036  \n",
       "...           ...                ...  \n",
       "70044    08e34ef0  d8afd764_08e34ef0  \n",
       "70045    3c3afbcf  2f2d1424_3c3afbcf  \n",
       "70046    e868d15f  13f09ce1_e868d15f  \n",
       "70047    3fbd2942  3efd8434_3fbd2942  \n",
       "70048    b1bd145a  6a5e2734_b1bd145a  \n",
       "\n",
       "[70049 rows x 12 columns]"
      ]
     },
     "execution_count": 20,
     "metadata": {},
     "output_type": "execute_result"
    }
   ],
   "source": [
    "review"
   ]
  },
  {
   "cell_type": "code",
   "execution_count": 21,
   "metadata": {},
   "outputs": [
    {
     "data": {
      "text/html": [
       "<div>\n",
       "<style scoped>\n",
       "    .dataframe tbody tr th:only-of-type {\n",
       "        vertical-align: middle;\n",
       "    }\n",
       "\n",
       "    .dataframe tbody tr th {\n",
       "        vertical-align: top;\n",
       "    }\n",
       "\n",
       "    .dataframe thead th {\n",
       "        text-align: right;\n",
       "    }\n",
       "</style>\n",
       "<table border=\"1\" class=\"dataframe\">\n",
       "  <thead>\n",
       "    <tr style=\"text-align: right;\">\n",
       "      <th></th>\n",
       "      <th>id</th>\n",
       "      <th>shop_id</th>\n",
       "      <th>reviewer_id</th>\n",
       "      <th>title</th>\n",
       "      <th>comment</th>\n",
       "      <th>visit_year</th>\n",
       "      <th>visit_month</th>\n",
       "      <th>review_score</th>\n",
       "    </tr>\n",
       "  </thead>\n",
       "  <tbody>\n",
       "    <tr>\n",
       "      <th>0</th>\n",
       "      <td>87598b23_d57b35ba</td>\n",
       "      <td>87598b23</td>\n",
       "      <td>d57b35ba</td>\n",
       "      <td>きれいだけどしっかりしたイリコスープの絶品ラーメン</td>\n",
       "      <td>特製イリコそば（1200円）リニューアルしてからレギュラーメニューは初めて食べます(^_-)...</td>\n",
       "      <td>2021</td>\n",
       "      <td>1</td>\n",
       "      <td>4.9</td>\n",
       "    </tr>\n",
       "    <tr>\n",
       "      <th>1</th>\n",
       "      <td>c204b5f7_66501bed</td>\n",
       "      <td>c204b5f7</td>\n",
       "      <td>66501bed</td>\n",
       "      <td>いままでで一番のつけ麺</td>\n",
       "      <td>開店とほぼ同時刻に来店。店内満席・既に6〜7人の行列ができていました。しかし、10〜15分ほ...</td>\n",
       "      <td>2022</td>\n",
       "      <td>5</td>\n",
       "      <td>4.3</td>\n",
       "    </tr>\n",
       "    <tr>\n",
       "      <th>2</th>\n",
       "      <td>09385a4b_de6e1229</td>\n",
       "      <td>09385a4b</td>\n",
       "      <td>de6e1229</td>\n",
       "      <td>煮干し中華そばワンタン味玉トッピング1600円</td>\n",
       "      <td>カドヤ食堂 総本店ここは7年ぶりの訪麺で以前は確かバイクできたような気がする。公式サイトにて...</td>\n",
       "      <td>2022</td>\n",
       "      <td>2</td>\n",
       "      <td>4.0</td>\n",
       "    </tr>\n",
       "    <tr>\n",
       "      <th>3</th>\n",
       "      <td>40f52d87_17ee8036</td>\n",
       "      <td>40f52d87</td>\n",
       "      <td>17ee8036</td>\n",
       "      <td>ありふれた豚骨魚介つけ麺だからこそ違いが分かる名店でした</td>\n",
       "      <td>困りました。綿麺ですがレビューが浮かばない。それもこれもルーフランクさんの素晴らしいレビュー...</td>\n",
       "      <td>2015</td>\n",
       "      <td>6</td>\n",
       "      <td>4.6</td>\n",
       "    </tr>\n",
       "    <tr>\n",
       "      <th>4</th>\n",
       "      <td>15316161_6f08d431</td>\n",
       "      <td>15316161</td>\n",
       "      <td>6f08d431</td>\n",
       "      <td>｢鯛白湯とろり+燻製玉子｣&amp;｢鯛めし｣</td>\n",
       "      <td>大阪市淀川区にある「鯛白湯らーめん ○de▽」さんに来店しました。お店は御堂筋線、JRの「新...</td>\n",
       "      <td>2019</td>\n",
       "      <td>6</td>\n",
       "      <td>4.5</td>\n",
       "    </tr>\n",
       "  </tbody>\n",
       "</table>\n",
       "</div>"
      ],
      "text/plain": [
       "                  id   shop_id reviewer_id                         title  \\\n",
       "0  87598b23_d57b35ba  87598b23    d57b35ba     きれいだけどしっかりしたイリコスープの絶品ラーメン   \n",
       "1  c204b5f7_66501bed  c204b5f7    66501bed                   いままでで一番のつけ麺   \n",
       "2  09385a4b_de6e1229  09385a4b    de6e1229       煮干し中華そばワンタン味玉トッピング1600円   \n",
       "3  40f52d87_17ee8036  40f52d87    17ee8036  ありふれた豚骨魚介つけ麺だからこそ違いが分かる名店でした   \n",
       "4  15316161_6f08d431  15316161    6f08d431           ｢鯛白湯とろり+燻製玉子｣&｢鯛めし｣   \n",
       "\n",
       "                                             comment  visit_year  visit_month  \\\n",
       "0  特製イリコそば（1200円）リニューアルしてからレギュラーメニューは初めて食べます(^_-)...        2021            1   \n",
       "1  開店とほぼ同時刻に来店。店内満席・既に6〜7人の行列ができていました。しかし、10〜15分ほ...        2022            5   \n",
       "2  カドヤ食堂 総本店ここは7年ぶりの訪麺で以前は確かバイクできたような気がする。公式サイトにて...        2022            2   \n",
       "3  困りました。綿麺ですがレビューが浮かばない。それもこれもルーフランクさんの素晴らしいレビュー...        2015            6   \n",
       "4  大阪市淀川区にある「鯛白湯らーめん ○de▽」さんに来店しました。お店は御堂筋線、JRの「新...        2019            6   \n",
       "\n",
       "   review_score  \n",
       "0           4.9  \n",
       "1           4.3  \n",
       "2           4.0  \n",
       "3           4.6  \n",
       "4           4.5  "
      ]
     },
     "execution_count": 21,
     "metadata": {},
     "output_type": "execute_result"
    }
   ],
   "source": [
    "usecols = ['id', 'shop_id', 'reviewer_id', 'title', 'comment', 'visit_year', 'visit_month', 'review_score']\n",
    "train = train[usecols].copy()\n",
    "train.to_csv('output/competition_data/train.csv', index=False)\n",
    "train.head()"
   ]
  },
  {
   "cell_type": "code",
   "execution_count": 22,
   "metadata": {},
   "outputs": [
    {
     "data": {
      "text/html": [
       "<div>\n",
       "<style scoped>\n",
       "    .dataframe tbody tr th:only-of-type {\n",
       "        vertical-align: middle;\n",
       "    }\n",
       "\n",
       "    .dataframe tbody tr th {\n",
       "        vertical-align: top;\n",
       "    }\n",
       "\n",
       "    .dataframe thead th {\n",
       "        text-align: right;\n",
       "    }\n",
       "</style>\n",
       "<table border=\"1\" class=\"dataframe\">\n",
       "  <thead>\n",
       "    <tr style=\"text-align: right;\">\n",
       "      <th></th>\n",
       "      <th>id</th>\n",
       "      <th>shop_id</th>\n",
       "      <th>reviewer_id</th>\n",
       "      <th>title</th>\n",
       "      <th>comment</th>\n",
       "      <th>visit_year</th>\n",
       "      <th>visit_month</th>\n",
       "    </tr>\n",
       "  </thead>\n",
       "  <tbody>\n",
       "    <tr>\n",
       "      <th>0</th>\n",
       "      <td>f7d5bfd5_895adf61</td>\n",
       "      <td>f7d5bfd5</td>\n",
       "      <td>895adf61</td>\n",
       "      <td>NaN</td>\n",
       "      <td>雨の日曜日開店前に到着‼️私も金の器で提供していただきました。（嬉）つけ麺は、中と半チャーハ...</td>\n",
       "      <td>2023</td>\n",
       "      <td>6</td>\n",
       "    </tr>\n",
       "    <tr>\n",
       "      <th>1</th>\n",
       "      <td>1c4cb3ed_2338bfdf</td>\n",
       "      <td>1c4cb3ed</td>\n",
       "      <td>2338bfdf</td>\n",
       "      <td>線路沿いに並び。。</td>\n",
       "      <td>お店は二箇所に別れていて、並んでいる人を右へ左へと店舗に振られるので、長い並びは思っているよ...</td>\n",
       "      <td>2023</td>\n",
       "      <td>2</td>\n",
       "    </tr>\n",
       "    <tr>\n",
       "      <th>2</th>\n",
       "      <td>b623d137_b7c39a59</td>\n",
       "      <td>b623d137</td>\n",
       "      <td>b7c39a59</td>\n",
       "      <td>福島駅ラーメン激戦区の一店</td>\n",
       "      <td>大阪遠征するとまず福島でラーメン食べてから行動開始するんですが、三くか麺助か悩んだ結果、あま...</td>\n",
       "      <td>2023</td>\n",
       "      <td>3</td>\n",
       "    </tr>\n",
       "    <tr>\n",
       "      <th>3</th>\n",
       "      <td>5918225e_16263e26</td>\n",
       "      <td>5918225e</td>\n",
       "      <td>16263e26</td>\n",
       "      <td>NYジャパンフェスで世界3位の経歴もつ上新庄で人気なラーメン屋</td>\n",
       "      <td>【今回紹介のお店】⚫︎KUCHE（クーシェ）✔︎NYジャパンフェスで世界3位受賞経歴あるラー...</td>\n",
       "      <td>2023</td>\n",
       "      <td>1</td>\n",
       "    </tr>\n",
       "    <tr>\n",
       "      <th>4</th>\n",
       "      <td>aba6367e_a5640176</td>\n",
       "      <td>aba6367e</td>\n",
       "      <td>a5640176</td>\n",
       "      <td>NaN</td>\n",
       "      <td>投稿時：3.73こちらのお店は 阪急梅田駅の改札内にあるので阪急電車を利用しない人は入場券が...</td>\n",
       "      <td>2023</td>\n",
       "      <td>5</td>\n",
       "    </tr>\n",
       "  </tbody>\n",
       "</table>\n",
       "</div>"
      ],
      "text/plain": [
       "                  id   shop_id reviewer_id                            title  \\\n",
       "0  f7d5bfd5_895adf61  f7d5bfd5    895adf61                              NaN   \n",
       "1  1c4cb3ed_2338bfdf  1c4cb3ed    2338bfdf                        線路沿いに並び。。   \n",
       "2  b623d137_b7c39a59  b623d137    b7c39a59                    福島駅ラーメン激戦区の一店   \n",
       "3  5918225e_16263e26  5918225e    16263e26  NYジャパンフェスで世界3位の経歴もつ上新庄で人気なラーメン屋   \n",
       "4  aba6367e_a5640176  aba6367e    a5640176                              NaN   \n",
       "\n",
       "                                             comment  visit_year  visit_month  \n",
       "0  雨の日曜日開店前に到着‼️私も金の器で提供していただきました。（嬉）つけ麺は、中と半チャーハ...        2023            6  \n",
       "1  お店は二箇所に別れていて、並んでいる人を右へ左へと店舗に振られるので、長い並びは思っているよ...        2023            2  \n",
       "2  大阪遠征するとまず福島でラーメン食べてから行動開始するんですが、三くか麺助か悩んだ結果、あま...        2023            3  \n",
       "3  【今回紹介のお店】⚫︎KUCHE（クーシェ）✔︎NYジャパンフェスで世界3位受賞経歴あるラー...        2023            1  \n",
       "4  投稿時：3.73こちらのお店は 阪急梅田駅の改札内にあるので阪急電車を利用しない人は入場券が...        2023            5  "
      ]
     },
     "execution_count": 22,
     "metadata": {},
     "output_type": "execute_result"
    }
   ],
   "source": [
    "test = test[usecols].copy()\n",
    "test.drop(columns=['review_score']).to_csv('output/competition_data/test.csv', index=False)\n",
    "test.drop(columns=['review_score']).head()"
   ]
  },
  {
   "cell_type": "code",
   "execution_count": 23,
   "metadata": {},
   "outputs": [
    {
     "data": {
      "text/html": [
       "<div>\n",
       "<style scoped>\n",
       "    .dataframe tbody tr th:only-of-type {\n",
       "        vertical-align: middle;\n",
       "    }\n",
       "\n",
       "    .dataframe tbody tr th {\n",
       "        vertical-align: top;\n",
       "    }\n",
       "\n",
       "    .dataframe thead th {\n",
       "        text-align: right;\n",
       "    }\n",
       "</style>\n",
       "<table border=\"1\" class=\"dataframe\">\n",
       "  <thead>\n",
       "    <tr style=\"text-align: right;\">\n",
       "      <th></th>\n",
       "      <th>id</th>\n",
       "      <th>review_score</th>\n",
       "    </tr>\n",
       "  </thead>\n",
       "  <tbody>\n",
       "    <tr>\n",
       "      <th>0</th>\n",
       "      <td>f7d5bfd5_895adf61</td>\n",
       "      <td>4.0</td>\n",
       "    </tr>\n",
       "    <tr>\n",
       "      <th>1</th>\n",
       "      <td>1c4cb3ed_2338bfdf</td>\n",
       "      <td>3.7</td>\n",
       "    </tr>\n",
       "    <tr>\n",
       "      <th>2</th>\n",
       "      <td>b623d137_b7c39a59</td>\n",
       "      <td>4.5</td>\n",
       "    </tr>\n",
       "    <tr>\n",
       "      <th>3</th>\n",
       "      <td>5918225e_16263e26</td>\n",
       "      <td>3.4</td>\n",
       "    </tr>\n",
       "    <tr>\n",
       "      <th>4</th>\n",
       "      <td>aba6367e_a5640176</td>\n",
       "      <td>3.8</td>\n",
       "    </tr>\n",
       "  </tbody>\n",
       "</table>\n",
       "</div>"
      ],
      "text/plain": [
       "                  id  review_score\n",
       "0  f7d5bfd5_895adf61           4.0\n",
       "1  1c4cb3ed_2338bfdf           3.7\n",
       "2  b623d137_b7c39a59           4.5\n",
       "3  5918225e_16263e26           3.4\n",
       "4  aba6367e_a5640176           3.8"
      ]
     },
     "execution_count": 23,
     "metadata": {},
     "output_type": "execute_result"
    }
   ],
   "source": [
    "labels = test[['id', 'review_score']].copy()\n",
    "labels.to_csv('output/competition_data/labels.csv', index=False)\n",
    "labels.head()"
   ]
  },
  {
   "cell_type": "code",
   "execution_count": 24,
   "metadata": {},
   "outputs": [
    {
     "data": {
      "text/html": [
       "<div>\n",
       "<style scoped>\n",
       "    .dataframe tbody tr th:only-of-type {\n",
       "        vertical-align: middle;\n",
       "    }\n",
       "\n",
       "    .dataframe tbody tr th {\n",
       "        vertical-align: top;\n",
       "    }\n",
       "\n",
       "    .dataframe thead th {\n",
       "        text-align: right;\n",
       "    }\n",
       "</style>\n",
       "<table border=\"1\" class=\"dataframe\">\n",
       "  <thead>\n",
       "    <tr style=\"text-align: right;\">\n",
       "      <th></th>\n",
       "      <th>id</th>\n",
       "      <th>review_score</th>\n",
       "    </tr>\n",
       "  </thead>\n",
       "  <tbody>\n",
       "    <tr>\n",
       "      <th>0</th>\n",
       "      <td>f7d5bfd5_895adf61</td>\n",
       "      <td>3.0</td>\n",
       "    </tr>\n",
       "    <tr>\n",
       "      <th>1</th>\n",
       "      <td>1c4cb3ed_2338bfdf</td>\n",
       "      <td>3.0</td>\n",
       "    </tr>\n",
       "    <tr>\n",
       "      <th>2</th>\n",
       "      <td>b623d137_b7c39a59</td>\n",
       "      <td>3.0</td>\n",
       "    </tr>\n",
       "    <tr>\n",
       "      <th>3</th>\n",
       "      <td>5918225e_16263e26</td>\n",
       "      <td>3.0</td>\n",
       "    </tr>\n",
       "    <tr>\n",
       "      <th>4</th>\n",
       "      <td>aba6367e_a5640176</td>\n",
       "      <td>3.0</td>\n",
       "    </tr>\n",
       "  </tbody>\n",
       "</table>\n",
       "</div>"
      ],
      "text/plain": [
       "                  id  review_score\n",
       "0  f7d5bfd5_895adf61           3.0\n",
       "1  1c4cb3ed_2338bfdf           3.0\n",
       "2  b623d137_b7c39a59           3.0\n",
       "3  5918225e_16263e26           3.0\n",
       "4  aba6367e_a5640176           3.0"
      ]
     },
     "execution_count": 24,
     "metadata": {},
     "output_type": "execute_result"
    }
   ],
   "source": [
    "sample_submission = test[['id']].copy()\n",
    "sample_submission['review_score'] = 3.0\n",
    "sample_submission.to_csv('output/competition_data/sample_submission.csv', index=False)\n",
    "sample_submission.head()"
   ]
  }
 ],
 "metadata": {
  "kernelspec": {
   "display_name": "Python 3",
   "language": "python",
   "name": "python3"
  },
  "language_info": {
   "codemirror_mode": {
    "name": "ipython",
    "version": 3
   },
   "file_extension": ".py",
   "mimetype": "text/x-python",
   "name": "python",
   "nbconvert_exporter": "python",
   "pygments_lexer": "ipython3",
   "version": "3.10.12"
  }
 },
 "nbformat": 4,
 "nbformat_minor": 2
}
